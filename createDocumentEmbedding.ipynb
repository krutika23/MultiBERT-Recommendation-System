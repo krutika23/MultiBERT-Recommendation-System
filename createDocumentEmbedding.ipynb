{
  "nbformat": 4,
  "nbformat_minor": 0,
  "metadata": {
    "colab": {
      "provenance": [],
      "machine_shape": "hm"
    },
    "kernelspec": {
      "name": "python3",
      "display_name": "Python 3"
    },
    "gpuClass": "premium",
    "accelerator": "GPU"
  },
  "cells": [
    {
      "cell_type": "code",
      "source": [
        "!pip install sentence_transformers"
      ],
      "metadata": {
        "colab": {
          "base_uri": "https://localhost:8080/"
        },
        "id": "1TZ2M_nIqDjT",
        "outputId": "6fcc897e-9371-4ab3-e8a3-36bec5079381"
      },
      "execution_count": null,
      "outputs": [
        {
          "output_type": "stream",
          "name": "stdout",
          "text": [
            "Looking in indexes: https://pypi.org/simple, https://us-python.pkg.dev/colab-wheels/public/simple/\n",
            "Requirement already satisfied: sentence_transformers in /usr/local/lib/python3.8/dist-packages (2.2.2)\n",
            "Requirement already satisfied: transformers<5.0.0,>=4.6.0 in /usr/local/lib/python3.8/dist-packages (from sentence_transformers) (4.25.1)\n",
            "Requirement already satisfied: tqdm in /usr/local/lib/python3.8/dist-packages (from sentence_transformers) (4.64.1)\n",
            "Requirement already satisfied: scipy in /usr/local/lib/python3.8/dist-packages (from sentence_transformers) (1.7.3)\n",
            "Requirement already satisfied: torchvision in /usr/local/lib/python3.8/dist-packages (from sentence_transformers) (0.14.0+cu116)\n",
            "Requirement already satisfied: sentencepiece in /usr/local/lib/python3.8/dist-packages (from sentence_transformers) (0.1.97)\n",
            "Requirement already satisfied: huggingface-hub>=0.4.0 in /usr/local/lib/python3.8/dist-packages (from sentence_transformers) (0.11.1)\n",
            "Requirement already satisfied: numpy in /usr/local/lib/python3.8/dist-packages (from sentence_transformers) (1.21.6)\n",
            "Requirement already satisfied: torch>=1.6.0 in /usr/local/lib/python3.8/dist-packages (from sentence_transformers) (1.13.0+cu116)\n",
            "Requirement already satisfied: scikit-learn in /usr/local/lib/python3.8/dist-packages (from sentence_transformers) (1.0.2)\n",
            "Requirement already satisfied: nltk in /usr/local/lib/python3.8/dist-packages (from sentence_transformers) (3.7)\n",
            "Requirement already satisfied: requests in /usr/local/lib/python3.8/dist-packages (from huggingface-hub>=0.4.0->sentence_transformers) (2.23.0)\n",
            "Requirement already satisfied: typing-extensions>=3.7.4.3 in /usr/local/lib/python3.8/dist-packages (from huggingface-hub>=0.4.0->sentence_transformers) (4.4.0)\n",
            "Requirement already satisfied: packaging>=20.9 in /usr/local/lib/python3.8/dist-packages (from huggingface-hub>=0.4.0->sentence_transformers) (21.3)\n",
            "Requirement already satisfied: filelock in /usr/local/lib/python3.8/dist-packages (from huggingface-hub>=0.4.0->sentence_transformers) (3.8.0)\n",
            "Requirement already satisfied: pyyaml>=5.1 in /usr/local/lib/python3.8/dist-packages (from huggingface-hub>=0.4.0->sentence_transformers) (6.0)\n",
            "Requirement already satisfied: pyparsing!=3.0.5,>=2.0.2 in /usr/local/lib/python3.8/dist-packages (from packaging>=20.9->huggingface-hub>=0.4.0->sentence_transformers) (3.0.9)\n",
            "Requirement already satisfied: tokenizers!=0.11.3,<0.14,>=0.11.1 in /usr/local/lib/python3.8/dist-packages (from transformers<5.0.0,>=4.6.0->sentence_transformers) (0.13.2)\n",
            "Requirement already satisfied: regex!=2019.12.17 in /usr/local/lib/python3.8/dist-packages (from transformers<5.0.0,>=4.6.0->sentence_transformers) (2022.6.2)\n",
            "Requirement already satisfied: joblib in /usr/local/lib/python3.8/dist-packages (from nltk->sentence_transformers) (1.2.0)\n",
            "Requirement already satisfied: click in /usr/local/lib/python3.8/dist-packages (from nltk->sentence_transformers) (7.1.2)\n",
            "Requirement already satisfied: chardet<4,>=3.0.2 in /usr/local/lib/python3.8/dist-packages (from requests->huggingface-hub>=0.4.0->sentence_transformers) (3.0.4)\n",
            "Requirement already satisfied: certifi>=2017.4.17 in /usr/local/lib/python3.8/dist-packages (from requests->huggingface-hub>=0.4.0->sentence_transformers) (2022.9.24)\n",
            "Requirement already satisfied: urllib3!=1.25.0,!=1.25.1,<1.26,>=1.21.1 in /usr/local/lib/python3.8/dist-packages (from requests->huggingface-hub>=0.4.0->sentence_transformers) (1.24.3)\n",
            "Requirement already satisfied: idna<3,>=2.5 in /usr/local/lib/python3.8/dist-packages (from requests->huggingface-hub>=0.4.0->sentence_transformers) (2.10)\n",
            "Requirement already satisfied: threadpoolctl>=2.0.0 in /usr/local/lib/python3.8/dist-packages (from scikit-learn->sentence_transformers) (3.1.0)\n",
            "Requirement already satisfied: pillow!=8.3.*,>=5.3.0 in /usr/local/lib/python3.8/dist-packages (from torchvision->sentence_transformers) (7.1.2)\n"
          ]
        }
      ]
    },
    {
      "cell_type": "code",
      "source": [
        "from sentence_transformers import SentenceTransformer\n",
        "from sklearn.model_selection import train_test_split\n",
        "import pandas as pd\n",
        "import numpy as np\n",
        "import os\n",
        "from google.colab import drive\n",
        "import gzip\n",
        "import json\n",
        "drive.mount('/content/drive')\n",
        "from tqdm.auto import tqdm\n",
        "import re\n",
        "from scipy.cluster.vq import *\n",
        "import torch\n",
        "import torch.nn as nn\n",
        "import torch.optim as optim\n",
        "import math\n",
        "from transformers import RobertaConfig\n",
        "from transformers import RobertaForMaskedLM, RobertaModel\n",
        "from transformers import AdamW"
      ],
      "metadata": {
        "id": "VXK62DQVu0yY"
      },
      "execution_count": null,
      "outputs": []
    },
    {
      "cell_type": "markdown",
      "source": [
        "Loading previously created processed dataframe"
      ],
      "metadata": {
        "id": "KH12E2gRJZSl"
      }
    },
    {
      "cell_type": "code",
      "source": [
        "grouped_df=pd.read_csv(\"/content/drive/MyDrive/Data/grouped_df.csv\")\n",
        "grouped_df=grouped_df[1:25000]"
      ],
      "metadata": {
        "id": "KkAhvFofrFEz"
      },
      "execution_count": null,
      "outputs": []
    },
    {
      "cell_type": "code",
      "source": [
        "class DoubleStackBERT:\n",
        "    def __init__(self, tokenizer_source): \n",
        "        self.model = RobertaModel.from_pretrained('/content/drive/MyDrive/Data/docberta_dummy_25000')\n",
        "        self.codebook = np.load('/content/drive/MyDrive/Data/tp_codebook_25000.npy')\n",
        "        with open('/content/drive/MyDrive/Data/tp_vocabs_25000.json') as json_file:\n",
        "            self.__vocabs = json.load(json_file)\n",
        "        self.sentenceTransformer = SentenceTransformer('all-mpnet-base-v2')\n",
        "        self.bos_token = self.cls_token = ''\n",
        "        self.eos_token = self.sep_token = ''\n",
        "        self.unk_token = ''\n",
        "        self.pad_token = ''\n",
        "        self.mask_token ='' \n",
        "        self.mask_token_id = self.__vocabs['']\n",
        "\n",
        "        self.device = torch.device('cuda') if torch.cuda.is_available() else torch.device('cpu')\n",
        "        \n",
        "    def getVocabularySize(self):\n",
        "        return len(self.__vocabs)\n",
        "  \n",
        "    # Splits text into sentences\n",
        "    def textToSentences(self,text):\n",
        "        try:\n",
        "            sentences = re.split(r'(?<=[^A-Z].[.?]) +(?=[A-Z])', text)\n",
        "        except:\n",
        "            sentences = [\"\"]\n",
        "        return sentences\n",
        "\n",
        "    # Splits to whole document into sentences and generates sentence embedding using pretrained SBERT model for \n",
        "    # each sentence and returns a  2D list of those embedding\n",
        "    def createSentencesEmbedding(self, data):\n",
        "        # splitting each text of the dataset into a list of sentences\n",
        "        array = []\n",
        "        if type(data) == str: \n",
        "            array.append(data)\n",
        "        else: \n",
        "            array = data\n",
        "\n",
        "        sentences = [self.textToSentences(text) for text in array]\n",
        "        embeddings = []\n",
        "        for i in range(len(sentences)):\n",
        "            embeddings.append(self.sentenceTransformer.encode(sentences[i]))\n",
        "\n",
        "        return embeddings\n",
        "  \n",
        "    def createTokens(self, list_of_docs, max_length= -1, padding = True, truncation = True): \n",
        "        docs_tokens = [] \n",
        "        doc_embeddings = self.createSentencesEmbedding(list_of_docs)\n",
        "        for doc in doc_embeddings:\n",
        "            cluster_ids = vq(doc,self.codebook)\n",
        "            token_ids = []\n",
        "            attention_mask = []\n",
        "            for cluster in cluster_ids[0]: \n",
        "                token_ids.append(self.__vocabs[str(cluster)])\n",
        "            #If truncation is set, we truncate the tokens above max_length and set padding to false\n",
        "            if truncation and max_length != -1 :\n",
        "                if len(token_ids) + 2 > max_length:\n",
        "                    token_ids = token_ids[:(max_length-2)]\n",
        "                    padding = False\n",
        "\n",
        "            input_ids = [self.__vocabs['']] + token_ids + [self.__vocabs['']]\n",
        "            attention_mask.extend([1] * len(input_ids))\n",
        "            # If padding is set then added padding to the remaining space of max_length \n",
        "            # Because all the input ids are not of the same size and roberta models deal with same sized inputs \n",
        "            if padding:\n",
        "                padding_len = max_length - len(input_ids)\n",
        "                input_ids.extend([self.__vocabs['']] * padding_len)\n",
        "                attention_mask.extend([0] * padding_len)\n",
        "            #creates a list of dictionary of input ids and their attention masks\n",
        "            docs_tokens.append({'input_ids':input_ids, 'attention_mask':attention_mask})\n",
        "\n",
        "        return docs_tokens\n",
        "    #Creates document tensors for all the rows in dataset and returns a tensor of 2D array containing tensors for all documents\n",
        "    def documentTensors(self,dataset,max_length= -1, padding = True, truncation = True):\n",
        "        tensors = []\n",
        "        if type(dataset) is str:\n",
        "            dataset = [dataset]\n",
        "        for d in dataset:\n",
        "            t = torch.tensor([self.createTokens(d,max_length,padding,truncation)[0]['input_ids']])\n",
        "            output = self.model(t).pooler_output.cpu().detach().numpy()\n",
        "            tensors.append(output.reshape((output.shape[1])))\n",
        "        return tensors\n",
        "\n",
        "    #Creates a document vector by concatenating document tensors and sentence embeddings\n",
        "    def documentEmbeddings(self,data, max_length= -1, padding = True, truncation = True):\n",
        "        if type(data) == str:\n",
        "            data = [data]\n",
        "        embeddings = self.sentenceTransformer.encode(data)\n",
        "        tensors = self.documentTensors(data,max_length,padding,truncation)\n",
        "        return np.concatenate((embeddings, tensors), axis=1)"
      ],
      "metadata": {
        "id": "7IzfvxeLunZY"
      },
      "execution_count": null,
      "outputs": []
    },
    {
      "cell_type": "markdown",
      "source": [
        "Save all the book embeddings"
      ],
      "metadata": {
        "id": "75HmKIsXPx2f"
      }
    },
    {
      "cell_type": "code",
      "source": [
        "import numpy as np\n",
        "np.save(\"/content/drive/MyDrive/Data/book_embeddings_25000.npy\",book_embeddings)"
      ],
      "metadata": {
        "id": "CGis8afUPSZh"
      },
      "execution_count": null,
      "outputs": []
    },
    {
      "cell_type": "code",
      "source": [
        "# book_embeddings=np.load('/content/drive/MyDrive/Data/book_embeddings_25000.npy',allow_pickle=True)"
      ],
      "metadata": {
        "id": "3w1qU0OEnYfD"
      },
      "execution_count": null,
      "outputs": []
    },
    {
      "cell_type": "code",
      "source": [
        "#Get book title from id number\n",
        "def title(index):\n",
        "    return grouped_df[grouped_df.S_no == index][\"title\"].values[0]"
      ],
      "metadata": {
        "id": "_NQGSUN_q4j1"
      },
      "execution_count": null,
      "outputs": []
    },
    {
      "cell_type": "code",
      "source": [
        "from scipy.cluster.vq import *\n",
        "# using 100 cluster\n",
        "cluster_centers,_ = kmeans(book_embeddings, 100, 20)"
      ],
      "metadata": {
        "id": "8-8iTNk2qqQe"
      },
      "execution_count": null,
      "outputs": []
    },
    {
      "cell_type": "code",
      "source": [
        "# np.save(\"/content/drive/MyDrive/Data/book_Codebook_10000.npy\",cluster_centers)"
      ],
      "metadata": {
        "id": "m6jrFqSOsVMG"
      },
      "execution_count": null,
      "outputs": []
    },
    {
      "cell_type": "code",
      "source": [
        "#Assign a cluster to every book_embedding\n",
        "cluster, _ = vq(book_embeddings,cluster_centers)"
      ],
      "metadata": {
        "id": "9ZPXf2U0uI8r"
      },
      "execution_count": null,
      "outputs": []
    },
    {
      "cell_type": "code",
      "source": [
        "grouped_df['cluster'] = cluster"
      ],
      "metadata": {
        "id": "M-bxjSlRuI_y"
      },
      "execution_count": null,
      "outputs": []
    },
    {
      "cell_type": "code",
      "source": [
        "grouped_df.iloc[8:9,:].head(2)"
      ],
      "metadata": {
        "id": "IiUexAVWuJCo",
        "outputId": "e9322bdc-ed84-494f-e3d7-0b15456de3f5",
        "colab": {
          "base_uri": "https://localhost:8080/",
          "height": 197
        }
      },
      "execution_count": null,
      "outputs": [
        {
          "output_type": "execute_result",
          "data": {
            "text/plain": [
              "     language_code  is_ebook  average_rating similar_books  \\\n",
              "2077         en-GB     False            2.93            []   \n",
              "\n",
              "                                            description publisher      title  \\\n",
              "2077  It's not the greatest start to a summer holida...    Oxford  Forever X   \n",
              "\n",
              "      book_id      book_genre author_ids  n_votes  rating  \\\n",
              "2077  2167609  00100000000000   ['1631']      0.0     5.0   \n",
              "\n",
              "                                            review_text  review_length  \\\n",
              "2077  A delightful, slightly bonkers tale of a car b...            470   \n",
              "\n",
              "      description_len                                           combined  \\\n",
              "2077              942  Oxford Forever X ['1631']2.93 00100000000000It...   \n",
              "\n",
              "      cluster  \n",
              "2077       54  "
            ],
            "text/html": [
              "\n",
              "  <div id=\"df-677ca98b-0445-4374-b021-bdf86cf538f3\">\n",
              "    <div class=\"colab-df-container\">\n",
              "      <div>\n",
              "<style scoped>\n",
              "    .dataframe tbody tr th:only-of-type {\n",
              "        vertical-align: middle;\n",
              "    }\n",
              "\n",
              "    .dataframe tbody tr th {\n",
              "        vertical-align: top;\n",
              "    }\n",
              "\n",
              "    .dataframe thead th {\n",
              "        text-align: right;\n",
              "    }\n",
              "</style>\n",
              "<table border=\"1\" class=\"dataframe\">\n",
              "  <thead>\n",
              "    <tr style=\"text-align: right;\">\n",
              "      <th></th>\n",
              "      <th>language_code</th>\n",
              "      <th>is_ebook</th>\n",
              "      <th>average_rating</th>\n",
              "      <th>similar_books</th>\n",
              "      <th>description</th>\n",
              "      <th>publisher</th>\n",
              "      <th>title</th>\n",
              "      <th>book_id</th>\n",
              "      <th>book_genre</th>\n",
              "      <th>author_ids</th>\n",
              "      <th>n_votes</th>\n",
              "      <th>rating</th>\n",
              "      <th>review_text</th>\n",
              "      <th>review_length</th>\n",
              "      <th>description_len</th>\n",
              "      <th>combined</th>\n",
              "      <th>cluster</th>\n",
              "    </tr>\n",
              "  </thead>\n",
              "  <tbody>\n",
              "    <tr>\n",
              "      <th>2077</th>\n",
              "      <td>en-GB</td>\n",
              "      <td>False</td>\n",
              "      <td>2.93</td>\n",
              "      <td>[]</td>\n",
              "      <td>It's not the greatest start to a summer holida...</td>\n",
              "      <td>Oxford</td>\n",
              "      <td>Forever X</td>\n",
              "      <td>2167609</td>\n",
              "      <td>00100000000000</td>\n",
              "      <td>['1631']</td>\n",
              "      <td>0.0</td>\n",
              "      <td>5.0</td>\n",
              "      <td>A delightful, slightly bonkers tale of a car b...</td>\n",
              "      <td>470</td>\n",
              "      <td>942</td>\n",
              "      <td>Oxford Forever X ['1631']2.93 00100000000000It...</td>\n",
              "      <td>54</td>\n",
              "    </tr>\n",
              "  </tbody>\n",
              "</table>\n",
              "</div>\n",
              "      <button class=\"colab-df-convert\" onclick=\"convertToInteractive('df-677ca98b-0445-4374-b021-bdf86cf538f3')\"\n",
              "              title=\"Convert this dataframe to an interactive table.\"\n",
              "              style=\"display:none;\">\n",
              "        \n",
              "  <svg xmlns=\"http://www.w3.org/2000/svg\" height=\"24px\"viewBox=\"0 0 24 24\"\n",
              "       width=\"24px\">\n",
              "    <path d=\"M0 0h24v24H0V0z\" fill=\"none\"/>\n",
              "    <path d=\"M18.56 5.44l.94 2.06.94-2.06 2.06-.94-2.06-.94-.94-2.06-.94 2.06-2.06.94zm-11 1L8.5 8.5l.94-2.06 2.06-.94-2.06-.94L8.5 2.5l-.94 2.06-2.06.94zm10 10l.94 2.06.94-2.06 2.06-.94-2.06-.94-.94-2.06-.94 2.06-2.06.94z\"/><path d=\"M17.41 7.96l-1.37-1.37c-.4-.4-.92-.59-1.43-.59-.52 0-1.04.2-1.43.59L10.3 9.45l-7.72 7.72c-.78.78-.78 2.05 0 2.83L4 21.41c.39.39.9.59 1.41.59.51 0 1.02-.2 1.41-.59l7.78-7.78 2.81-2.81c.8-.78.8-2.07 0-2.86zM5.41 20L4 18.59l7.72-7.72 1.47 1.35L5.41 20z\"/>\n",
              "  </svg>\n",
              "      </button>\n",
              "      \n",
              "  <style>\n",
              "    .colab-df-container {\n",
              "      display:flex;\n",
              "      flex-wrap:wrap;\n",
              "      gap: 12px;\n",
              "    }\n",
              "\n",
              "    .colab-df-convert {\n",
              "      background-color: #E8F0FE;\n",
              "      border: none;\n",
              "      border-radius: 50%;\n",
              "      cursor: pointer;\n",
              "      display: none;\n",
              "      fill: #1967D2;\n",
              "      height: 32px;\n",
              "      padding: 0 0 0 0;\n",
              "      width: 32px;\n",
              "    }\n",
              "\n",
              "    .colab-df-convert:hover {\n",
              "      background-color: #E2EBFA;\n",
              "      box-shadow: 0px 1px 2px rgba(60, 64, 67, 0.3), 0px 1px 3px 1px rgba(60, 64, 67, 0.15);\n",
              "      fill: #174EA6;\n",
              "    }\n",
              "\n",
              "    [theme=dark] .colab-df-convert {\n",
              "      background-color: #3B4455;\n",
              "      fill: #D2E3FC;\n",
              "    }\n",
              "\n",
              "    [theme=dark] .colab-df-convert:hover {\n",
              "      background-color: #434B5C;\n",
              "      box-shadow: 0px 1px 3px 1px rgba(0, 0, 0, 0.15);\n",
              "      filter: drop-shadow(0px 1px 2px rgba(0, 0, 0, 0.3));\n",
              "      fill: #FFFFFF;\n",
              "    }\n",
              "  </style>\n",
              "\n",
              "      <script>\n",
              "        const buttonEl =\n",
              "          document.querySelector('#df-677ca98b-0445-4374-b021-bdf86cf538f3 button.colab-df-convert');\n",
              "        buttonEl.style.display =\n",
              "          google.colab.kernel.accessAllowed ? 'block' : 'none';\n",
              "\n",
              "        async function convertToInteractive(key) {\n",
              "          const element = document.querySelector('#df-677ca98b-0445-4374-b021-bdf86cf538f3');\n",
              "          const dataTable =\n",
              "            await google.colab.kernel.invokeFunction('convertToInteractive',\n",
              "                                                     [key], {});\n",
              "          if (!dataTable) return;\n",
              "\n",
              "          const docLinkHtml = 'Like what you see? Visit the ' +\n",
              "            '<a target=\"_blank\" href=https://colab.research.google.com/notebooks/data_table.ipynb>data table notebook</a>'\n",
              "            + ' to learn more about interactive tables.';\n",
              "          element.innerHTML = '';\n",
              "          dataTable['output_type'] = 'display_data';\n",
              "          await google.colab.output.renderOutput(dataTable, element);\n",
              "          const docLink = document.createElement('div');\n",
              "          docLink.innerHTML = docLinkHtml;\n",
              "          element.appendChild(docLink);\n",
              "        }\n",
              "      </script>\n",
              "    </div>\n",
              "  </div>\n",
              "  "
            ]
          },
          "metadata": {},
          "execution_count": 122
        }
      ]
    },
    {
      "cell_type": "code",
      "source": [
        "\n",
        "d=\"\"\"It's not the greatest start to a summer holiday. The car breaks down, miles from anywhere, and suddenly Joy and her family are stuck in the first \n",
        "bed-and-breakfast they can find. And it's no ordinary place. Forever X, says the sign on the house. That's strange enough. But inside, everything is even \n",
        "weirder - from the girl in an elf costume to the mysterious Mr Angel. And then the police arrive.... a superbly written novel, both funny and \n",
        "illuminating.-- School Librarian. * Geraldine McCaughrean is one of the most highly-acclaimed living children's writers. She has won the Carnegie \n",
        "Medal, the Whitbread Children's Novel Award (twice), the Guardian Children's Fiction Award, and the inaugural Blue Peter Book of the Year Award. * \n",
        "Stunning new cover design for all of Geraldine McCaughrean's novels - this title is being issued simultaneously with new matching edition of \n",
        "Plundering Paradise. * Funny, quirky theme will have broad appeal.\"\"\"\n",
        "n=\"Forever X\"\n"
      ],
      "metadata": {
        "id": "m-0_kO_6sZiU"
      },
      "execution_count": null,
      "outputs": []
    },
    {
      "cell_type": "code",
      "source": [
        "#Instantiate model\n",
        "model = DoubleStackBERT('doublestackbert_tokenizer')\n",
        "query_vector=model.documentEmbeddings(n+d)\n",
        "print(query_vector.T.shape,cluster_centers[0].shape)\n",
        "queryCluster, _ = vq(query_vector,cluster_centers)"
      ],
      "metadata": {
        "id": "gVI_ZNFZtwvE",
        "colab": {
          "base_uri": "https://localhost:8080/"
        },
        "outputId": "778ed175-a2b8-44e1-c3ca-55217da0f160"
      },
      "execution_count": null,
      "outputs": [
        {
          "output_type": "stream",
          "name": "stderr",
          "text": [
            "Some weights of the model checkpoint at /content/drive/MyDrive/Data/docberta_dummy_10000 were not used when initializing RobertaModel: ['lm_head.layer_norm.weight', 'lm_head.bias', 'lm_head.dense.bias', 'lm_head.dense.weight', 'lm_head.layer_norm.bias']\n",
            "- This IS expected if you are initializing RobertaModel from the checkpoint of a model trained on another task or with another architecture (e.g. initializing a BertForSequenceClassification model from a BertForPreTraining model).\n",
            "- This IS NOT expected if you are initializing RobertaModel from the checkpoint of a model that you expect to be exactly identical (initializing a BertForSequenceClassification model from a BertForSequenceClassification model).\n",
            "Some weights of RobertaModel were not initialized from the model checkpoint at /content/drive/MyDrive/Data/docberta_dummy_10000 and are newly initialized: ['roberta.pooler.dense.bias', 'roberta.pooler.dense.weight']\n",
            "You should probably TRAIN this model on a down-stream task to be able to use it for predictions and inference.\n"
          ]
        },
        {
          "output_type": "stream",
          "name": "stdout",
          "text": [
            "(1536, 1) (1536,)\n"
          ]
        }
      ]
    },
    {
      "cell_type": "code",
      "source": [
        "print(\"Cluster id of query book:\",queryCluster[0])"
      ],
      "metadata": {
        "id": "bHNDNtdvtxWv",
        "outputId": "d741eb7a-12bd-40f0-d26e-5fa771be5f98",
        "colab": {
          "base_uri": "https://localhost:8080/"
        }
      },
      "execution_count": null,
      "outputs": [
        {
          "output_type": "stream",
          "name": "stdout",
          "text": [
            "Cluster id of query book: 68\n"
          ]
        }
      ]
    },
    {
      "cell_type": "code",
      "source": [
        "def elementsInSameCluster(centroid):\n",
        "    cluster =grouped_df\n",
        "    cluster['embeddings_id'] = [i for i in range(0,book_embeddings.shape[0])]\n",
        "    multiIndex_cluster = cluster.sort_values(by=['cluster'])\n",
        "    multiIndex_cluster = multiIndex_cluster.set_index(['cluster'])\n",
        "    books = multiIndex_cluster.loc[centroid]\n",
        "\n",
        "    ids = np.asarray(books.index)\n",
        "    titles = [t for t in books['title']]\n",
        "    genre=[t for t in books['book_genre']]\n",
        "    description = [d for d in books['description']]\n",
        "    embeddings = [book_embeddings[id] for id in books['embeddings_id']]\n",
        "    similar_books = {'id':ids, 'title':titles, 'description':description,'genre':genre}\n",
        "    return similar_books, embeddings\n",
        "same_cluster_books, cluster_book_embeddings = elementsInSameCluster(queryCluster[0])"
      ],
      "metadata": {
        "id": "n54uqThrtxZX"
      },
      "execution_count": null,
      "outputs": []
    },
    {
      "cell_type": "code",
      "source": [
        "for i in range(len(same_cluster_books[1])):\n",
        "    print(\"************************************************************************\")\n",
        "    print(\"Title       :\",same_cluster_books['title'][i])\n",
        "    print(\"Genre :\",same_cluster_books['genre'][i])\n",
        "    print(\"Description :\",same_cluster_books['desc'][i])\n"
      ],
      "metadata": {
        "id": "3j2oH5U_txhp",
        "outputId": "4f067b64-0662-48de-f23a-6ecdd6f8d89a",
        "colab": {
          "base_uri": "https://localhost:8080/"
        }
      },
      "execution_count": null,
      "outputs": [
        {
          "output_type": "stream",
          "name": "stdout",
          "text": [
            "=================================================================================\n",
            "Title       : The Mysterious Benedict Society (The Mysterious Benedict Society, #1)\n",
            "Genre : 01111111101010\n",
            "Description : \"Are you a gifted child looking for special opportunities?\"\n",
            "Dozens of children respond to this peculiar ad in the newspaper and are then put through a series of mind-bending tests, which readers take along with them. Only four children-two boys and two girls-succeed. Their challenge: to go on a secret mission that only the most intelligent and inventive children could complete. To accomplish it they will have to go undercover at the Learning Institute for the Very Enlightened, where the only rule is that there are no rules. But what they'll find in the hidden underground tunnels of the school is more than your average school supplies. So, if you're gifted, creative, or happen to know Morse Code, they could probably use your help.\n",
            "=================================================================================\n",
            "Title       : The Mysterious Benedict Society (The Mysterious Benedict Society, #1)\n",
            "Genre : 01111111101010\n",
            "Description : \"Are you a gifted child looking for special opportunities?\"\n",
            "Dozens of children respond to this peculiar ad in the newspaper and are then put through a series of mind-bending tests, which readers take along with them. Only four children-two boys and two girls-succeed. Their challenge: to go on a secret mission that only the most intelligent and inventive children could complete. To accomplish it they will have to go undercover at the Learning Institute for the Very Enlightened, where the only rule is that there are no rules. But what they'll find in the hidden underground tunnels of the school is more than your average school supplies. So, if you're gifted, creative, or happen to know Morse Code, they could probably use your help.\n",
            "=================================================================================\n",
            "Title       : The Mysterious Benedict Society (The Mysterious Benedict Society, #1)\n",
            "Genre : 01111111101010\n",
            "Description : \"Are you a gifted child looking for special opportunities?\"\n",
            "Dozens of children respond to this peculiar ad in the newspaper and are then put through a series of mind-bending tests, which readers take along with them. Only four children-two boys and two girls-succeed. Their challenge: to go on a secret mission that only the most intelligent and inventive children could complete. To accomplish it they will have to go undercover at the Learning Institute for the Very Enlightened, where the only rule is that there are no rules. But what they'll find in the hidden underground tunnels of the school is more than your average school supplies. So, if you're gifted, creative, or happen to know Morse Code, they could probably use your help.\n",
            "=================================================================================\n",
            "Title       : Cam Jansen and the Tennis Trophy Mystery (Cam Jansen Mysteries, #23)\n",
            "Genre : 00110001000110\n",
            "Description : Cam and Eric's gym teacher just had his office walls painted. But Cam notices that the color of his walls isn't the only difference-his prized tennis trophy is missing! Who could have taken it? Say \"click\" with Cam as she begins collecting clues to this tricky tennis mystery!\n",
            "=================================================================================\n",
            "Title       : The Mystery of the Strange Messages (The Five Find-Outers, #14)\n",
            "Genre : 10110111100100\n",
            "Description : Mr Goon, the policeman, can't understand it. Messages keep coming to him, popping up all over the place. But who is sending them?\n",
            "Mr Goon thinks it is Fatty, playing tricks on him but this is the first the Five Find-Outers have heard about the messages. It all becomes a remarkable mystery and one which the Five just have to solve.\n",
            "=================================================================================\n",
            "Title       : The Mystery of the Strange Messages (The Five Find-Outers, #14)\n",
            "Genre : 10110111100100\n",
            "Description : Mr Goon, the policeman, can't understand it. Messages keep coming to him, popping up all over the place. But who is sending them?\n",
            "Mr Goon thinks it is Fatty, playing tricks on him but this is the first the Five Find-Outers have heard about the messages. It all becomes a remarkable mystery and one which the Five just have to solve.\n",
            "=================================================================================\n",
            "Title       : Judy Moody, Girl Detective (Judy Moody, #9)\n",
            "Genre : 00110011001100\n",
            "Description : It's an honest-to-jeepers mystery! Agent Judy Drewdy sets out to solve the case of the missing puppy when a canine-cop-in-training vanishes into thin air.\n",
            "Judy Moody is in a mood. A sleuthing, Nancy Drew kind of mood. So what's a WBMS (world's best mystery solver) to do? Go find a mystery, that's what! And she doesn't have to snoop for long: when Mr. Chips, a beloved crime-dog-in-training, goes missing, Judy Drewdy and her chums, agents Dills Pickle (Frank), Spuds Houdini (Rocky), and James Madagascar (Stink) find themselves smack-dab in the middle of a reallife, scare-your-pants-off whodunit. Was Mr. Chips stolen by dirty dognappers? And why are chocolate-chip cookies disappearing all over town? Watch out for red herrings--along with clever references to classic Nancy Drew mysteries--as Eagle Eye Moody and company are hot on the case!\n",
            "=================================================================================\n",
            "Title       : The Bald Bandit (A to Z Mysteries, #2)\n",
            "Genre : 00110011100110\n",
            "Description : Help Dink, Josh, and Ruth Rose solve mysteries from A to Z! \n",
            "Kids love collecting the entire alphabet and super editions! With over 8 million copies in print, the A to Z Mysteries(R) have been hooking chapter book readers on mysteries and reading for years. Now this classic kid favorite is back with a bright new look!\n",
            "B is for Bandit . . . There's a bank robber in Green Lawn! A red-haired kid took a video of the crime, but nobody can find him. Without the video, will the robber go free? Dink, Josh, and Ruth Rose must track down that kid--before the bandit does!\n",
            "=================================================================================\n",
            "Title       : You Only Die Twice (The Genius Files #3)\n",
            "Genre : 00110100100010\n",
            "Description : The most dangerous road trip in history continues in the wacky third book of Dan Gutman's New York Timesbestselling The Genius Files series, following twins Coke and Pepsi McDonald as they dodge nefarious villains all the way to Graceland. With the real-kid humor that has earned him millions of readers around the world, and featuring all new weird-but-true locations around America, this third book in the New York Timesbestselling Genius Files series is one wild ride!\n",
            "The genius twins Coke and Pepsi have narrowly escaped a vat of a Spam, a pit of boiling fry oil, and a score of crazed adults all bent on killing them. But just when they thought they were safe, their arch nemesis Dr. Herman Warsaw reappeared, engaged to their Aunt Judy! Whoa didn't he die already?! Now, as the twins continue their family road trip from Washington D.C. through the South, it will take every bit of their genius abilities to outwit their wacky enemies. It doesn't help that their parents remain totally oblivious! When they finally get to Graceland, Elvis's home in Memphis, Tennessee, Coke and Pepsi come to an explosiveconclusion you'll have to read to believe!\n",
            "\"\n",
            "=================================================================================\n",
            "Title       : The Bald Bandit (A to Z Mysteries, #2)\n",
            "Genre : 00110011100110\n",
            "Description : Help Dink, Josh, and Ruth Rose solve mysteries from A to Z! \n",
            "Kids love collecting the entire alphabet and super editions! With over 8 million copies in print, the A to Z Mysteries(R) have been hooking chapter book readers on mysteries and reading for years. Now this classic kid favorite is back with a bright new look!\n",
            "B is for Bandit . . . There's a bank robber in Green Lawn! A red-haired kid took a video of the crime, but nobody can find him. Without the video, will the robber go free? Dink, Josh, and Ruth Rose must track down that kid--before the bandit does!\n",
            "=================================================================================\n",
            "Title       : The Mysterious Benedict Society (The Mysterious Benedict Society, #1)\n",
            "Genre : 01111111101010\n",
            "Description : \"Are you a gifted child looking for special opportunities?\"\n",
            "Dozens of children respond to this peculiar ad in the newspaper and are then put through a series of mind-bending tests, which readers take along with them. Only four children-two boys and two girls-succeed. Their challenge: to go on a secret mission that only the most intelligent and inventive children could complete. To accomplish it they will have to go undercover at the Learning Institute for the Very Enlightened, where the only rule is that there are no rules. But what they'll find in the hidden underground tunnels of the school is more than your average school supplies. So, if you're gifted, creative, or happen to know Morse Code, they could probably use your help.\n",
            "=================================================================================\n",
            "Title       : The Mysterious Benedict Society (The Mysterious Benedict Society, #1)\n",
            "Genre : 01111111101010\n",
            "Description : \"Are you a gifted child looking for special opportunities?\"\n",
            "Dozens of children respond to this peculiar ad in the newspaper and are then put through a series of mind-bending tests, which readers take along with them. Only four children-two boys and two girls-succeed. Their challenge: to go on a secret mission that only the most intelligent and inventive children could complete. To accomplish it they will have to go undercover at the Learning Institute for the Very Enlightened, where the only rule is that there are no rules. But what they'll find in the hidden underground tunnels of the school is more than your average school supplies. So, if you're gifted, creative, or happen to know Morse Code, they could probably use your help.\n",
            "=================================================================================\n",
            "Title       : The Mysterious Benedict Society (The Mysterious Benedict Society, #1)\n",
            "Genre : 01111111101010\n",
            "Description : \"Are you a gifted child looking for special opportunities?\"\n",
            "Dozens of children respond to this peculiar ad in the newspaper and are then put through a series of mind-bending tests, which readers take along with them. Only four children-two boys and two girls-succeed. Their challenge: to go on a secret mission that only the most intelligent and inventive children could complete. To accomplish it they will have to go undercover at the Learning Institute for the Very Enlightened, where the only rule is that there are no rules. But what they'll find in the hidden underground tunnels of the school is more than your average school supplies. So, if you're gifted, creative, or happen to know Morse Code, they could probably use your help.\n",
            "=================================================================================\n",
            "Title       : The Mysterious Benedict Society (The Mysterious Benedict Society, #1)\n",
            "Genre : 01111111101010\n",
            "Description : \"Are you a gifted child looking for special opportunities?\"\n",
            "Dozens of children respond to this peculiar ad in the newspaper and are then put through a series of mind-bending tests, which readers take along with them. Only four children-two boys and two girls-succeed. Their challenge: to go on a secret mission that only the most intelligent and inventive children could complete. To accomplish it they will have to go undercover at the Learning Institute for the Very Enlightened, where the only rule is that there are no rules. But what they'll find in the hidden underground tunnels of the school is more than your average school supplies. So, if you're gifted, creative, or happen to know Morse Code, they could probably use your help.\n",
            "=================================================================================\n",
            "Title       : The Mysterious Benedict Society (The Mysterious Benedict Society, #1)\n",
            "Genre : 01111111101010\n",
            "Description : \"Are you a gifted child looking for special opportunities?\"\n",
            "Dozens of children respond to this peculiar ad in the newspaper and are then put through a series of mind-bending tests, which readers take along with them. Only four children-two boys and two girls-succeed. Their challenge: to go on a secret mission that only the most intelligent and inventive children could complete. To accomplish it they will have to go undercover at the Learning Institute for the Very Enlightened, where the only rule is that there are no rules. But what they'll find in the hidden underground tunnels of the school is more than your average school supplies. So, if you're gifted, creative, or happen to know Morse Code, they could probably use your help.\n",
            "=================================================================================\n",
            "Title       : The Mysterious Benedict Society (The Mysterious Benedict Society, #1)\n",
            "Genre : 01111111101010\n",
            "Description : \"Are you a gifted child looking for special opportunities?\"\n",
            "Dozens of children respond to this peculiar ad in the newspaper and are then put through a series of mind-bending tests, which readers take along with them. Only four children-two boys and two girls-succeed. Their challenge: to go on a secret mission that only the most intelligent and inventive children could complete. To accomplish it they will have to go undercover at the Learning Institute for the Very Enlightened, where the only rule is that there are no rules. But what they'll find in the hidden underground tunnels of the school is more than your average school supplies. So, if you're gifted, creative, or happen to know Morse Code, they could probably use your help.\n",
            "=================================================================================\n",
            "Title       : Cam Jansen and the Tennis Trophy Mystery (Cam Jansen Mysteries, #23)\n",
            "Genre : 00110001000110\n",
            "Description : Cam and Eric's gym teacher just had his office walls painted. But Cam notices that the color of his walls isn't the only difference-his prized tennis trophy is missing! Who could have taken it? Say \"click\" with Cam as she begins collecting clues to this tricky tennis mystery!\n",
            "=================================================================================\n",
            "Title       : The Mysterious Benedict Society (The Mysterious Benedict Society, #1)\n",
            "Genre : 01111111101010\n",
            "Description : \"Are you a gifted child looking for special opportunities?\"\n",
            "Dozens of children respond to this peculiar ad in the newspaper and are then put through a series of mind-bending tests, which readers take along with them. Only four children-two boys and two girls-succeed. Their challenge: to go on a secret mission that only the most intelligent and inventive children could complete. To accomplish it they will have to go undercover at the Learning Institute for the Very Enlightened, where the only rule is that there are no rules. But what they'll find in the hidden underground tunnels of the school is more than your average school supplies. So, if you're gifted, creative, or happen to know Morse Code, they could probably use your help.\n",
            "=================================================================================\n",
            "Title       : The Mysterious Benedict Society (The Mysterious Benedict Society, #1)\n",
            "Genre : 01111111101010\n",
            "Description : \"Are you a gifted child looking for special opportunities?\"\n",
            "Dozens of children respond to this peculiar ad in the newspaper and are then put through a series of mind-bending tests, which readers take along with them. Only four children-two boys and two girls-succeed. Their challenge: to go on a secret mission that only the most intelligent and inventive children could complete. To accomplish it they will have to go undercover at the Learning Institute for the Very Enlightened, where the only rule is that there are no rules. But what they'll find in the hidden underground tunnels of the school is more than your average school supplies. So, if you're gifted, creative, or happen to know Morse Code, they could probably use your help.\n",
            "=================================================================================\n",
            "Title       : The Mysterious Benedict Society (The Mysterious Benedict Society, #1)\n",
            "Genre : 01111111101010\n",
            "Description : \"Are you a gifted child looking for special opportunities?\"\n",
            "Dozens of children respond to this peculiar ad in the newspaper and are then put through a series of mind-bending tests, which readers take along with them. Only four children-two boys and two girls-succeed. Their challenge: to go on a secret mission that only the most intelligent and inventive children could complete. To accomplish it they will have to go undercover at the Learning Institute for the Very Enlightened, where the only rule is that there are no rules. But what they'll find in the hidden underground tunnels of the school is more than your average school supplies. So, if you're gifted, creative, or happen to know Morse Code, they could probably use your help.\n"
          ]
        }
      ]
    }
  ]
}