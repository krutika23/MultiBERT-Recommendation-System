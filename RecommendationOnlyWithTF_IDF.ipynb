{
  "cells": [
    {
      "cell_type": "code",
      "execution_count": null,
      "metadata": {
        "colab": {
          "base_uri": "https://localhost:8080/"
        },
        "id": "1TZ2M_nIqDjT",
        "outputId": "6e1d93bd-3e7f-44f2-9a91-8f7aad1f3597"
      },
      "outputs": [
        {
          "output_type": "stream",
          "name": "stdout",
          "text": [
            "Looking in indexes: https://pypi.org/simple, https://us-python.pkg.dev/colab-wheels/public/simple/\n",
            "Collecting sentence_transformers\n",
            "  Downloading sentence-transformers-2.2.2.tar.gz (85 kB)\n",
            "\u001b[K     |████████████████████████████████| 85 kB 464 kB/s \n",
            "\u001b[?25hCollecting transformers<5.0.0,>=4.6.0\n",
            "  Downloading transformers-4.25.1-py3-none-any.whl (5.8 MB)\n",
            "\u001b[K     |████████████████████████████████| 5.8 MB 58.9 MB/s \n",
            "\u001b[?25hRequirement already satisfied: tqdm in /usr/local/lib/python3.8/dist-packages (from sentence_transformers) (4.64.1)\n",
            "Requirement already satisfied: torch>=1.6.0 in /usr/local/lib/python3.8/dist-packages (from sentence_transformers) (1.13.0+cu116)\n",
            "Requirement already satisfied: torchvision in /usr/local/lib/python3.8/dist-packages (from sentence_transformers) (0.14.0+cu116)\n",
            "Requirement already satisfied: numpy in /usr/local/lib/python3.8/dist-packages (from sentence_transformers) (1.21.6)\n",
            "Requirement already satisfied: scikit-learn in /usr/local/lib/python3.8/dist-packages (from sentence_transformers) (1.0.2)\n",
            "Requirement already satisfied: scipy in /usr/local/lib/python3.8/dist-packages (from sentence_transformers) (1.7.3)\n",
            "Requirement already satisfied: nltk in /usr/local/lib/python3.8/dist-packages (from sentence_transformers) (3.7)\n",
            "Collecting sentencepiece\n",
            "  Downloading sentencepiece-0.1.97-cp38-cp38-manylinux_2_17_x86_64.manylinux2014_x86_64.whl (1.3 MB)\n",
            "\u001b[K     |████████████████████████████████| 1.3 MB 58.3 MB/s \n",
            "\u001b[?25hCollecting huggingface-hub>=0.4.0\n",
            "  Downloading huggingface_hub-0.11.1-py3-none-any.whl (182 kB)\n",
            "\u001b[K     |████████████████████████████████| 182 kB 72.4 MB/s \n",
            "\u001b[?25hRequirement already satisfied: pyyaml>=5.1 in /usr/local/lib/python3.8/dist-packages (from huggingface-hub>=0.4.0->sentence_transformers) (6.0)\n",
            "Requirement already satisfied: packaging>=20.9 in /usr/local/lib/python3.8/dist-packages (from huggingface-hub>=0.4.0->sentence_transformers) (21.3)\n",
            "Requirement already satisfied: requests in /usr/local/lib/python3.8/dist-packages (from huggingface-hub>=0.4.0->sentence_transformers) (2.23.0)\n",
            "Requirement already satisfied: typing-extensions>=3.7.4.3 in /usr/local/lib/python3.8/dist-packages (from huggingface-hub>=0.4.0->sentence_transformers) (4.4.0)\n",
            "Requirement already satisfied: filelock in /usr/local/lib/python3.8/dist-packages (from huggingface-hub>=0.4.0->sentence_transformers) (3.8.0)\n",
            "Requirement already satisfied: pyparsing!=3.0.5,>=2.0.2 in /usr/local/lib/python3.8/dist-packages (from packaging>=20.9->huggingface-hub>=0.4.0->sentence_transformers) (3.0.9)\n",
            "Collecting tokenizers!=0.11.3,<0.14,>=0.11.1\n",
            "  Downloading tokenizers-0.13.2-cp38-cp38-manylinux_2_17_x86_64.manylinux2014_x86_64.whl (7.6 MB)\n",
            "\u001b[K     |████████████████████████████████| 7.6 MB 25.5 MB/s \n",
            "\u001b[?25hRequirement already satisfied: regex!=2019.12.17 in /usr/local/lib/python3.8/dist-packages (from transformers<5.0.0,>=4.6.0->sentence_transformers) (2022.6.2)\n",
            "Requirement already satisfied: joblib in /usr/local/lib/python3.8/dist-packages (from nltk->sentence_transformers) (1.2.0)\n",
            "Requirement already satisfied: click in /usr/local/lib/python3.8/dist-packages (from nltk->sentence_transformers) (7.1.2)\n",
            "Requirement already satisfied: urllib3!=1.25.0,!=1.25.1,<1.26,>=1.21.1 in /usr/local/lib/python3.8/dist-packages (from requests->huggingface-hub>=0.4.0->sentence_transformers) (1.24.3)\n",
            "Requirement already satisfied: chardet<4,>=3.0.2 in /usr/local/lib/python3.8/dist-packages (from requests->huggingface-hub>=0.4.0->sentence_transformers) (3.0.4)\n",
            "Requirement already satisfied: idna<3,>=2.5 in /usr/local/lib/python3.8/dist-packages (from requests->huggingface-hub>=0.4.0->sentence_transformers) (2.10)\n",
            "Requirement already satisfied: certifi>=2017.4.17 in /usr/local/lib/python3.8/dist-packages (from requests->huggingface-hub>=0.4.0->sentence_transformers) (2022.9.24)\n",
            "Requirement already satisfied: threadpoolctl>=2.0.0 in /usr/local/lib/python3.8/dist-packages (from scikit-learn->sentence_transformers) (3.1.0)\n",
            "Requirement already satisfied: pillow!=8.3.*,>=5.3.0 in /usr/local/lib/python3.8/dist-packages (from torchvision->sentence_transformers) (7.1.2)\n",
            "Building wheels for collected packages: sentence-transformers\n",
            "  Building wheel for sentence-transformers (setup.py) ... \u001b[?25l\u001b[?25hdone\n",
            "  Created wheel for sentence-transformers: filename=sentence_transformers-2.2.2-py3-none-any.whl size=125938 sha256=75ba364ee24ff38d8d6e083ff4111b402d38d3eacc5410a911b14eb3943d1213\n",
            "  Stored in directory: /root/.cache/pip/wheels/5e/6f/8c/d88aec621f3f542d26fac0342bef5e693335d125f4e54aeffe\n",
            "Successfully built sentence-transformers\n",
            "Installing collected packages: tokenizers, huggingface-hub, transformers, sentencepiece, sentence-transformers\n",
            "Successfully installed huggingface-hub-0.11.1 sentence-transformers-2.2.2 sentencepiece-0.1.97 tokenizers-0.13.2 transformers-4.25.1\n"
          ]
        }
      ],
      "source": [
        "!pip install sentence_transformers"
      ]
    },
    {
      "cell_type": "code",
      "execution_count": null,
      "metadata": {
        "colab": {
          "base_uri": "https://localhost:8080/"
        },
        "id": "oQRTICyW71eT",
        "outputId": "6fc68d81-2afa-49b5-9c9d-73b79eb7fe91"
      },
      "outputs": [
        {
          "output_type": "stream",
          "name": "stdout",
          "text": [
            "Mounted at /content/drive\n"
          ]
        }
      ],
      "source": [
        "from google.colab import drive\n",
        "drive.mount('/content/drive')"
      ]
    },
    {
      "cell_type": "code",
      "execution_count": null,
      "metadata": {
        "id": "VNznJbC3p1Qd"
      },
      "outputs": [],
      "source": [
        "from google.colab import drive\n",
        "import os\n",
        "import numpy as np\n",
        "import gzip\n",
        "import json\n",
        "import pandas as pd\n",
        "from scipy.cluster.vq import *"
      ]
    },
    {
      "cell_type": "markdown",
      "source": [
        "Load data from gzip json files"
      ],
      "metadata": {
        "id": "1uFiBk8kfYNV"
      }
    },
    {
      "cell_type": "code",
      "execution_count": null,
      "metadata": {
        "id": "JApzKl93gBwT"
      },
      "outputs": [],
      "source": [
        "def load_data(file_name, head = 500000):\n",
        "    count = 0\n",
        "    data = []\n",
        "    with gzip.open(file_name) as fin:\n",
        "        for l in fin:\n",
        "            d = json.loads(l)\n",
        "            count += 1\n",
        "            data.append(d)\n",
        "            \n",
        "            # break if reaches the 100th line\n",
        "            if (head is not None) and (count > head):\n",
        "                break\n",
        "    return data"
      ]
    },
    {
      "cell_type": "code",
      "execution_count": null,
      "metadata": {
        "id": "g5vXDbf1OGaf"
      },
      "outputs": [],
      "source": [
        "children = load_data(os.path.join(\"./\", '/content/drive/MyDrive/Data/goodreads_books_children.json.gz'))\n",
        "child_df=pd.DataFrame.from_records(children)"
      ]
    },
    {
      "cell_type": "markdown",
      "source": [
        "We have identified some common popular genres from popular_shelves column of bookd daatframe and stored it in child_genres list. We perform one hot encoding the match the genres which is present for every single book."
      ],
      "metadata": {
        "id": "BVqBgUeHfgBK"
      }
    },
    {
      "cell_type": "code",
      "execution_count": null,
      "metadata": {
        "colab": {
          "base_uri": "https://localhost:8080/",
          "height": 480
        },
        "id": "9Ti0hCssf1aP",
        "outputId": "d2c662fe-b5ae-46d4-a27a-a58955d7300f"
      },
      "outputs": [
        {
          "output_type": "execute_result",
          "data": {
            "text/plain": [
              "         isbn text_reviews_count    series country_code language_code  \\\n",
              "0  1599150603                  7        []           US                 \n",
              "1  1934876569                  6  [151854]           US                 \n",
              "2  0590417010                193        []           US           eng   \n",
              "\n",
              "                                     popular_shelves asin is_ebook  \\\n",
              "0  [{'count': '56', 'name': 'to-read'}, {'count':...         false   \n",
              "1  [{'count': '515', 'name': 'to-read'}, {'count'...         false   \n",
              "2  [{'count': '450', 'name': 'to-read'}, {'count'...         false   \n",
              "\n",
              "  average_rating kindle_asin  ... publication_year  \\\n",
              "0           4.13  B00DU10PUG  ...             2006   \n",
              "1           4.22              ...             2009   \n",
              "2           4.43  B017RORXNI  ...             1995   \n",
              "\n",
              "                                                 url  \\\n",
              "0  https://www.goodreads.com/book/show/287141.The...   \n",
              "1  https://www.goodreads.com/book/show/6066812-al...   \n",
              "2  https://www.goodreads.com/book/show/89378.Dog_...   \n",
              "\n",
              "                                           image_url  book_id ratings_count  \\\n",
              "0  https://s.gr-assets.com/assets/nophoto/book/11...   287141            46   \n",
              "1  https://images.gr-assets.com/books/1316637798m...  6066812            98   \n",
              "2  https://images.gr-assets.com/books/1360057676m...    89378          1331   \n",
              "\n",
              "  work_id                                              title  \\\n",
              "0  278578                      The Aeneid for Boys and Girls   \n",
              "1  701117  All's Fairy in Love and War (Avalon: Web of Ma...   \n",
              "2   86259                                         Dog Heaven   \n",
              "\n",
              "                                title_without_series           genre genre_len  \n",
              "0                      The Aeneid for Boys and Girls  10011000001000        14  \n",
              "1  All's Fairy in Love and War (Avalon: Web of Ma...  11111111110111        14  \n",
              "2                                         Dog Heaven  11111111111110        14  \n",
              "\n",
              "[3 rows x 31 columns]"
            ],
            "text/html": [
              "\n",
              "  <div id=\"df-8fef7105-c4bc-4625-92ea-54f98f51c69c\">\n",
              "    <div class=\"colab-df-container\">\n",
              "      <div>\n",
              "<style scoped>\n",
              "    .dataframe tbody tr th:only-of-type {\n",
              "        vertical-align: middle;\n",
              "    }\n",
              "\n",
              "    .dataframe tbody tr th {\n",
              "        vertical-align: top;\n",
              "    }\n",
              "\n",
              "    .dataframe thead th {\n",
              "        text-align: right;\n",
              "    }\n",
              "</style>\n",
              "<table border=\"1\" class=\"dataframe\">\n",
              "  <thead>\n",
              "    <tr style=\"text-align: right;\">\n",
              "      <th></th>\n",
              "      <th>isbn</th>\n",
              "      <th>text_reviews_count</th>\n",
              "      <th>series</th>\n",
              "      <th>country_code</th>\n",
              "      <th>language_code</th>\n",
              "      <th>popular_shelves</th>\n",
              "      <th>asin</th>\n",
              "      <th>is_ebook</th>\n",
              "      <th>average_rating</th>\n",
              "      <th>kindle_asin</th>\n",
              "      <th>...</th>\n",
              "      <th>publication_year</th>\n",
              "      <th>url</th>\n",
              "      <th>image_url</th>\n",
              "      <th>book_id</th>\n",
              "      <th>ratings_count</th>\n",
              "      <th>work_id</th>\n",
              "      <th>title</th>\n",
              "      <th>title_without_series</th>\n",
              "      <th>genre</th>\n",
              "      <th>genre_len</th>\n",
              "    </tr>\n",
              "  </thead>\n",
              "  <tbody>\n",
              "    <tr>\n",
              "      <th>0</th>\n",
              "      <td>1599150603</td>\n",
              "      <td>7</td>\n",
              "      <td>[]</td>\n",
              "      <td>US</td>\n",
              "      <td></td>\n",
              "      <td>[{'count': '56', 'name': 'to-read'}, {'count':...</td>\n",
              "      <td></td>\n",
              "      <td>false</td>\n",
              "      <td>4.13</td>\n",
              "      <td>B00DU10PUG</td>\n",
              "      <td>...</td>\n",
              "      <td>2006</td>\n",
              "      <td>https://www.goodreads.com/book/show/287141.The...</td>\n",
              "      <td>https://s.gr-assets.com/assets/nophoto/book/11...</td>\n",
              "      <td>287141</td>\n",
              "      <td>46</td>\n",
              "      <td>278578</td>\n",
              "      <td>The Aeneid for Boys and Girls</td>\n",
              "      <td>The Aeneid for Boys and Girls</td>\n",
              "      <td>10011000001000</td>\n",
              "      <td>14</td>\n",
              "    </tr>\n",
              "    <tr>\n",
              "      <th>1</th>\n",
              "      <td>1934876569</td>\n",
              "      <td>6</td>\n",
              "      <td>[151854]</td>\n",
              "      <td>US</td>\n",
              "      <td></td>\n",
              "      <td>[{'count': '515', 'name': 'to-read'}, {'count'...</td>\n",
              "      <td></td>\n",
              "      <td>false</td>\n",
              "      <td>4.22</td>\n",
              "      <td></td>\n",
              "      <td>...</td>\n",
              "      <td>2009</td>\n",
              "      <td>https://www.goodreads.com/book/show/6066812-al...</td>\n",
              "      <td>https://images.gr-assets.com/books/1316637798m...</td>\n",
              "      <td>6066812</td>\n",
              "      <td>98</td>\n",
              "      <td>701117</td>\n",
              "      <td>All's Fairy in Love and War (Avalon: Web of Ma...</td>\n",
              "      <td>All's Fairy in Love and War (Avalon: Web of Ma...</td>\n",
              "      <td>11111111110111</td>\n",
              "      <td>14</td>\n",
              "    </tr>\n",
              "    <tr>\n",
              "      <th>2</th>\n",
              "      <td>0590417010</td>\n",
              "      <td>193</td>\n",
              "      <td>[]</td>\n",
              "      <td>US</td>\n",
              "      <td>eng</td>\n",
              "      <td>[{'count': '450', 'name': 'to-read'}, {'count'...</td>\n",
              "      <td></td>\n",
              "      <td>false</td>\n",
              "      <td>4.43</td>\n",
              "      <td>B017RORXNI</td>\n",
              "      <td>...</td>\n",
              "      <td>1995</td>\n",
              "      <td>https://www.goodreads.com/book/show/89378.Dog_...</td>\n",
              "      <td>https://images.gr-assets.com/books/1360057676m...</td>\n",
              "      <td>89378</td>\n",
              "      <td>1331</td>\n",
              "      <td>86259</td>\n",
              "      <td>Dog Heaven</td>\n",
              "      <td>Dog Heaven</td>\n",
              "      <td>11111111111110</td>\n",
              "      <td>14</td>\n",
              "    </tr>\n",
              "  </tbody>\n",
              "</table>\n",
              "<p>3 rows × 31 columns</p>\n",
              "</div>\n",
              "      <button class=\"colab-df-convert\" onclick=\"convertToInteractive('df-8fef7105-c4bc-4625-92ea-54f98f51c69c')\"\n",
              "              title=\"Convert this dataframe to an interactive table.\"\n",
              "              style=\"display:none;\">\n",
              "        \n",
              "  <svg xmlns=\"http://www.w3.org/2000/svg\" height=\"24px\"viewBox=\"0 0 24 24\"\n",
              "       width=\"24px\">\n",
              "    <path d=\"M0 0h24v24H0V0z\" fill=\"none\"/>\n",
              "    <path d=\"M18.56 5.44l.94 2.06.94-2.06 2.06-.94-2.06-.94-.94-2.06-.94 2.06-2.06.94zm-11 1L8.5 8.5l.94-2.06 2.06-.94-2.06-.94L8.5 2.5l-.94 2.06-2.06.94zm10 10l.94 2.06.94-2.06 2.06-.94-2.06-.94-.94-2.06-.94 2.06-2.06.94z\"/><path d=\"M17.41 7.96l-1.37-1.37c-.4-.4-.92-.59-1.43-.59-.52 0-1.04.2-1.43.59L10.3 9.45l-7.72 7.72c-.78.78-.78 2.05 0 2.83L4 21.41c.39.39.9.59 1.41.59.51 0 1.02-.2 1.41-.59l7.78-7.78 2.81-2.81c.8-.78.8-2.07 0-2.86zM5.41 20L4 18.59l7.72-7.72 1.47 1.35L5.41 20z\"/>\n",
              "  </svg>\n",
              "      </button>\n",
              "      \n",
              "  <style>\n",
              "    .colab-df-container {\n",
              "      display:flex;\n",
              "      flex-wrap:wrap;\n",
              "      gap: 12px;\n",
              "    }\n",
              "\n",
              "    .colab-df-convert {\n",
              "      background-color: #E8F0FE;\n",
              "      border: none;\n",
              "      border-radius: 50%;\n",
              "      cursor: pointer;\n",
              "      display: none;\n",
              "      fill: #1967D2;\n",
              "      height: 32px;\n",
              "      padding: 0 0 0 0;\n",
              "      width: 32px;\n",
              "    }\n",
              "\n",
              "    .colab-df-convert:hover {\n",
              "      background-color: #E2EBFA;\n",
              "      box-shadow: 0px 1px 2px rgba(60, 64, 67, 0.3), 0px 1px 3px 1px rgba(60, 64, 67, 0.15);\n",
              "      fill: #174EA6;\n",
              "    }\n",
              "\n",
              "    [theme=dark] .colab-df-convert {\n",
              "      background-color: #3B4455;\n",
              "      fill: #D2E3FC;\n",
              "    }\n",
              "\n",
              "    [theme=dark] .colab-df-convert:hover {\n",
              "      background-color: #434B5C;\n",
              "      box-shadow: 0px 1px 3px 1px rgba(0, 0, 0, 0.15);\n",
              "      filter: drop-shadow(0px 1px 2px rgba(0, 0, 0, 0.3));\n",
              "      fill: #FFFFFF;\n",
              "    }\n",
              "  </style>\n",
              "\n",
              "      <script>\n",
              "        const buttonEl =\n",
              "          document.querySelector('#df-8fef7105-c4bc-4625-92ea-54f98f51c69c button.colab-df-convert');\n",
              "        buttonEl.style.display =\n",
              "          google.colab.kernel.accessAllowed ? 'block' : 'none';\n",
              "\n",
              "        async function convertToInteractive(key) {\n",
              "          const element = document.querySelector('#df-8fef7105-c4bc-4625-92ea-54f98f51c69c');\n",
              "          const dataTable =\n",
              "            await google.colab.kernel.invokeFunction('convertToInteractive',\n",
              "                                                     [key], {});\n",
              "          if (!dataTable) return;\n",
              "\n",
              "          const docLinkHtml = 'Like what you see? Visit the ' +\n",
              "            '<a target=\"_blank\" href=https://colab.research.google.com/notebooks/data_table.ipynb>data table notebook</a>'\n",
              "            + ' to learn more about interactive tables.';\n",
              "          element.innerHTML = '';\n",
              "          dataTable['output_type'] = 'display_data';\n",
              "          await google.colab.output.renderOutput(dataTable, element);\n",
              "          const docLink = document.createElement('div');\n",
              "          docLink.innerHTML = docLinkHtml;\n",
              "          element.appendChild(docLink);\n",
              "        }\n",
              "      </script>\n",
              "    </div>\n",
              "  </div>\n",
              "  "
            ]
          },
          "metadata": {},
          "execution_count": 125
        }
      ],
      "source": [
        "child_genres=[\"classic\",'favorite','fiction','children','fantasy','young-adult','childhood','kids','adventure','animal','school','picture-books','library','other']\n",
        "def apply_genre(r):\n",
        "  encode=[\"0\"]*len(child_genres)\n",
        "  for val in r['popular_shelves']:\n",
        "\n",
        "    for idx,g in enumerate(child_genres):\n",
        "      if val['name'] in g:\n",
        "        encode[idx]=\"1\"\n",
        "  return \"\".join(encode)\n",
        "\n",
        "child_df[\"genre\"]=child_df.apply(lambda row: apply_genre(row), axis=1)\n",
        "child_df[\"genre\"]=child_df[\"genre\"].astype(str)\n",
        "child_df[\"genre_len\"]=child_df[\"genre\"].apply(lambda x: len(x))\n",
        "child_df.head(3)"
      ]
    },
    {
      "cell_type": "markdown",
      "source": [
        "Accessing preprocessed data"
      ],
      "metadata": {
        "id": "rGb4576qgJUi"
      }
    },
    {
      "cell_type": "code",
      "execution_count": null,
      "metadata": {
        "id": "tZRSiDYNQLSr"
      },
      "outputs": [],
      "source": [
        "import pandas as pd \n",
        "final_df=pd.read_csv(\"/content/drive/MyDrive/Data/final_data.csv\")\n",
        "child_books=child_df"
      ]
    },
    {
      "cell_type": "code",
      "execution_count": null,
      "metadata": {
        "id": "wXRWGoOtZ_NS"
      },
      "outputs": [],
      "source": [
        "child_books[\"genre\"]=child_books[\"genre\"].astype(str)\n",
        "books_genre=child_books.set_index('book_id').to_dict()['genre']\n"
      ]
    },
    {
      "cell_type": "markdown",
      "source": [
        "Every book will have multiple user rating and multiple reviews from different users. So we aggregate those reviews and join them togehter and we take a mean of the user ratings."
      ],
      "metadata": {
        "id": "HVff1ktSm9WM"
      }
    },
    {
      "cell_type": "code",
      "execution_count": null,
      "metadata": {
        "id": "QbT5JEeuqDVy"
      },
      "outputs": [],
      "source": [
        "final_df[\"book_genre\"]=final_df[\"book_id\"].apply(lambda x:books_genre.get(str(x), \"00000000000000\"),0)\n",
        "final_df.dropna(inplace=True)\n",
        "grouped_df = final_df.groupby(['language_code', 'is_ebook','average_rating','similar_books','description'\n",
        ",'publisher','title','book_id','book_genre','author_ids','n_votes'\n",
        "]).agg({'rating': 'mean','review_text':' '.join}).reset_index()\n"
      ]
    },
    {
      "cell_type": "code",
      "execution_count": null,
      "metadata": {
        "colab": {
          "base_uri": "https://localhost:8080/",
          "height": 315
        },
        "id": "sGjWsWY4qDYZ",
        "outputId": "7acab0a2-238e-4047-807c-8ab6e321c6b0"
      },
      "outputs": [
        {
          "output_type": "execute_result",
          "data": {
            "text/plain": [
              "     language_code  is_ebook  average_rating similar_books  \\\n",
              "2068         en-GB     False            2.60            []   \n",
              "2069         en-GB     False            2.67            []   \n",
              "\n",
              "                                            description  \\\n",
              "2068  Big Pig's Sister and her friend have been to t...   \n",
              "2069  Imagine Tirion's feelings: ten years old, and ...   \n",
              "\n",
              "                    publisher                     title   book_id  \\\n",
              "2068  Hodder Children's Books  Wibbly Pig and the Tooky  18586838   \n",
              "2069                     Pont   Tirion's Secret Journal  11136325   \n",
              "\n",
              "          book_genre author_ids  n_votes  rating  \\\n",
              "2068  00010001000000  ['77009']      0.0     3.0   \n",
              "2069  00000000000000  ['42859']      0.0     3.0   \n",
              "\n",
              "                                            review_text  review_length  \\\n",
              "2068  Cute, especially the pictures. Would have like...            290   \n",
              "2069  Very cute, and nicely informative too - loads ...            605   \n",
              "\n",
              "      description_len  \n",
              "2068              113  \n",
              "2069              452  "
            ],
            "text/html": [
              "\n",
              "  <div id=\"df-aa45938e-9eb4-43d2-9cee-7da17d4aff95\">\n",
              "    <div class=\"colab-df-container\">\n",
              "      <div>\n",
              "<style scoped>\n",
              "    .dataframe tbody tr th:only-of-type {\n",
              "        vertical-align: middle;\n",
              "    }\n",
              "\n",
              "    .dataframe tbody tr th {\n",
              "        vertical-align: top;\n",
              "    }\n",
              "\n",
              "    .dataframe thead th {\n",
              "        text-align: right;\n",
              "    }\n",
              "</style>\n",
              "<table border=\"1\" class=\"dataframe\">\n",
              "  <thead>\n",
              "    <tr style=\"text-align: right;\">\n",
              "      <th></th>\n",
              "      <th>language_code</th>\n",
              "      <th>is_ebook</th>\n",
              "      <th>average_rating</th>\n",
              "      <th>similar_books</th>\n",
              "      <th>description</th>\n",
              "      <th>publisher</th>\n",
              "      <th>title</th>\n",
              "      <th>book_id</th>\n",
              "      <th>book_genre</th>\n",
              "      <th>author_ids</th>\n",
              "      <th>n_votes</th>\n",
              "      <th>rating</th>\n",
              "      <th>review_text</th>\n",
              "      <th>review_length</th>\n",
              "      <th>description_len</th>\n",
              "    </tr>\n",
              "  </thead>\n",
              "  <tbody>\n",
              "    <tr>\n",
              "      <th>2068</th>\n",
              "      <td>en-GB</td>\n",
              "      <td>False</td>\n",
              "      <td>2.60</td>\n",
              "      <td>[]</td>\n",
              "      <td>Big Pig's Sister and her friend have been to t...</td>\n",
              "      <td>Hodder Children's Books</td>\n",
              "      <td>Wibbly Pig and the Tooky</td>\n",
              "      <td>18586838</td>\n",
              "      <td>00010001000000</td>\n",
              "      <td>['77009']</td>\n",
              "      <td>0.0</td>\n",
              "      <td>3.0</td>\n",
              "      <td>Cute, especially the pictures. Would have like...</td>\n",
              "      <td>290</td>\n",
              "      <td>113</td>\n",
              "    </tr>\n",
              "    <tr>\n",
              "      <th>2069</th>\n",
              "      <td>en-GB</td>\n",
              "      <td>False</td>\n",
              "      <td>2.67</td>\n",
              "      <td>[]</td>\n",
              "      <td>Imagine Tirion's feelings: ten years old, and ...</td>\n",
              "      <td>Pont</td>\n",
              "      <td>Tirion's Secret Journal</td>\n",
              "      <td>11136325</td>\n",
              "      <td>00000000000000</td>\n",
              "      <td>['42859']</td>\n",
              "      <td>0.0</td>\n",
              "      <td>3.0</td>\n",
              "      <td>Very cute, and nicely informative too - loads ...</td>\n",
              "      <td>605</td>\n",
              "      <td>452</td>\n",
              "    </tr>\n",
              "  </tbody>\n",
              "</table>\n",
              "</div>\n",
              "      <button class=\"colab-df-convert\" onclick=\"convertToInteractive('df-aa45938e-9eb4-43d2-9cee-7da17d4aff95')\"\n",
              "              title=\"Convert this dataframe to an interactive table.\"\n",
              "              style=\"display:none;\">\n",
              "        \n",
              "  <svg xmlns=\"http://www.w3.org/2000/svg\" height=\"24px\"viewBox=\"0 0 24 24\"\n",
              "       width=\"24px\">\n",
              "    <path d=\"M0 0h24v24H0V0z\" fill=\"none\"/>\n",
              "    <path d=\"M18.56 5.44l.94 2.06.94-2.06 2.06-.94-2.06-.94-.94-2.06-.94 2.06-2.06.94zm-11 1L8.5 8.5l.94-2.06 2.06-.94-2.06-.94L8.5 2.5l-.94 2.06-2.06.94zm10 10l.94 2.06.94-2.06 2.06-.94-2.06-.94-.94-2.06-.94 2.06-2.06.94z\"/><path d=\"M17.41 7.96l-1.37-1.37c-.4-.4-.92-.59-1.43-.59-.52 0-1.04.2-1.43.59L10.3 9.45l-7.72 7.72c-.78.78-.78 2.05 0 2.83L4 21.41c.39.39.9.59 1.41.59.51 0 1.02-.2 1.41-.59l7.78-7.78 2.81-2.81c.8-.78.8-2.07 0-2.86zM5.41 20L4 18.59l7.72-7.72 1.47 1.35L5.41 20z\"/>\n",
              "  </svg>\n",
              "      </button>\n",
              "      \n",
              "  <style>\n",
              "    .colab-df-container {\n",
              "      display:flex;\n",
              "      flex-wrap:wrap;\n",
              "      gap: 12px;\n",
              "    }\n",
              "\n",
              "    .colab-df-convert {\n",
              "      background-color: #E8F0FE;\n",
              "      border: none;\n",
              "      border-radius: 50%;\n",
              "      cursor: pointer;\n",
              "      display: none;\n",
              "      fill: #1967D2;\n",
              "      height: 32px;\n",
              "      padding: 0 0 0 0;\n",
              "      width: 32px;\n",
              "    }\n",
              "\n",
              "    .colab-df-convert:hover {\n",
              "      background-color: #E2EBFA;\n",
              "      box-shadow: 0px 1px 2px rgba(60, 64, 67, 0.3), 0px 1px 3px 1px rgba(60, 64, 67, 0.15);\n",
              "      fill: #174EA6;\n",
              "    }\n",
              "\n",
              "    [theme=dark] .colab-df-convert {\n",
              "      background-color: #3B4455;\n",
              "      fill: #D2E3FC;\n",
              "    }\n",
              "\n",
              "    [theme=dark] .colab-df-convert:hover {\n",
              "      background-color: #434B5C;\n",
              "      box-shadow: 0px 1px 3px 1px rgba(0, 0, 0, 0.15);\n",
              "      filter: drop-shadow(0px 1px 2px rgba(0, 0, 0, 0.3));\n",
              "      fill: #FFFFFF;\n",
              "    }\n",
              "  </style>\n",
              "\n",
              "      <script>\n",
              "        const buttonEl =\n",
              "          document.querySelector('#df-aa45938e-9eb4-43d2-9cee-7da17d4aff95 button.colab-df-convert');\n",
              "        buttonEl.style.display =\n",
              "          google.colab.kernel.accessAllowed ? 'block' : 'none';\n",
              "\n",
              "        async function convertToInteractive(key) {\n",
              "          const element = document.querySelector('#df-aa45938e-9eb4-43d2-9cee-7da17d4aff95');\n",
              "          const dataTable =\n",
              "            await google.colab.kernel.invokeFunction('convertToInteractive',\n",
              "                                                     [key], {});\n",
              "          if (!dataTable) return;\n",
              "\n",
              "          const docLinkHtml = 'Like what you see? Visit the ' +\n",
              "            '<a target=\"_blank\" href=https://colab.research.google.com/notebooks/data_table.ipynb>data table notebook</a>'\n",
              "            + ' to learn more about interactive tables.';\n",
              "          element.innerHTML = '';\n",
              "          dataTable['output_type'] = 'display_data';\n",
              "          await google.colab.output.renderOutput(dataTable, element);\n",
              "          const docLink = document.createElement('div');\n",
              "          docLink.innerHTML = docLinkHtml;\n",
              "          element.appendChild(docLink);\n",
              "        }\n",
              "      </script>\n",
              "    </div>\n",
              "  </div>\n",
              "  "
            ]
          },
          "metadata": {},
          "execution_count": 129
        }
      ],
      "source": [
        "grouped_df[\"review_length\"]=grouped_df[\"review_text\"].apply(lambda x: len(x))\n",
        "grouped_df[\"description_len\"]=grouped_df[\"description\"].apply(lambda x: len(x))\n",
        "grouped_df=grouped_df[grouped_df[\"language_code\"].isin([\"eng\",\"en-US\",\"en-GB\"])]\n",
        "grouped_df.head(2)"
      ]
    },
    {
      "cell_type": "code",
      "execution_count": null,
      "metadata": {
        "colab": {
          "base_uri": "https://localhost:8080/"
        },
        "id": "yXPtaIaphceo",
        "outputId": "1b4f2f11-5ff8-452b-bfbf-97b7084a3bba"
      },
      "outputs": [
        {
          "output_type": "execute_result",
          "data": {
            "text/plain": [
              "11111111101110    18020\n",
              "00111111100110    11916\n",
              "00110001000110     9987\n",
              "10111111101110     7794\n",
              "00111100101101     7230\n",
              "                  ...  \n",
              "10111110001110        1\n",
              "01101100001000        1\n",
              "01010000101100        1\n",
              "00111001110001        1\n",
              "10011101000110        1\n",
              "Name: book_genre, Length: 2520, dtype: int64"
            ]
          },
          "metadata": {},
          "execution_count": 130
        }
      ],
      "source": [
        "final_df[\"book_genre\"].value_counts()"
      ]
    },
    {
      "cell_type": "markdown",
      "source": [
        "The following plot shows that the length of most of book descriptions are lying mostly around 1000 characters, while few of them being as high as 16000 characters"
      ],
      "metadata": {
        "id": "9yxmMWQEgaF-"
      }
    },
    {
      "cell_type": "code",
      "execution_count": null,
      "metadata": {
        "colab": {
          "base_uri": "https://localhost:8080/",
          "height": 354
        },
        "id": "xONUkmmGx9bT",
        "outputId": "6e40698b-1e54-44ef-a0f1-569eec2b31df"
      },
      "outputs": [
        {
          "output_type": "stream",
          "name": "stderr",
          "text": [
            "/usr/local/lib/python3.8/dist-packages/seaborn/distributions.py:2619: FutureWarning: `distplot` is a deprecated function and will be removed in a future version. Please adapt your code to use either `displot` (a figure-level function with similar flexibility) or `histplot` (an axes-level function for histograms).\n",
            "  warnings.warn(msg, FutureWarning)\n"
          ]
        },
        {
          "output_type": "execute_result",
          "data": {
            "text/plain": [
              "<matplotlib.axes._subplots.AxesSubplot at 0x7f0f44eb1a00>"
            ]
          },
          "metadata": {},
          "execution_count": 131
        },
        {
          "output_type": "display_data",
          "data": {
            "text/plain": [
              "<Figure size 432x288 with 1 Axes>"
            ],
            "image/png": "[encoded data removed]"
          },
          "metadata": {
            "needs_background": "light"
          }
        }
      ],
      "source": [
        "\n",
        "grouped_df[\"description_len\"].max()\n",
        "import seaborn as sns\n",
        "sns.distplot(grouped_df['description_len'])"
      ]
    },
    {
      "cell_type": "code",
      "execution_count": null,
      "metadata": {
        "id": "7ak81MSrqDaw"
      },
      "outputs": [],
      "source": [
        "grouped_df[\"review_text\"] = grouped_df[\"review_text\"].fillna('')\n",
        "grouped_df[\"description\"] = grouped_df[\"description\"].fillna('')\n",
        "grouped_df[\"publisher\"] = grouped_df[\"publisher\"].fillna('')\n",
        "grouped_df[\"title\"] = grouped_df[\"title\"].fillna('')"
      ]
    },
    {
      "cell_type": "markdown",
      "source": [
        "We combine these rows together to \"combined\" column and this column is going to have all the aggregated data of every single book. So each entry of this column acts like a single document containing all the information of a book."
      ],
      "metadata": {
        "id": "Mx4TwFQ_mFe8"
      }
    },
    {
      "cell_type": "code",
      "execution_count": null,
      "metadata": {
        "id": "0B4MNIBeqDd2"
      },
      "outputs": [],
      "source": [
        "def combine(r):\n",
        "  return r['publisher']+' '+r['title']+' '+r['author_ids']+' '+str(r['average_rating'])+' '+r['book_genre']+' '+r['description']+' '+r['review_text']"
      ]
    },
    {
      "cell_type": "code",
      "execution_count": null,
      "metadata": {
        "id": "c-J8B8HsqDgt"
      },
      "outputs": [],
      "source": [
        "grouped_df[\"combined\"] =grouped_df.apply(combine, axis = 1)"
      ]
    },
    {
      "cell_type": "code",
      "source": [
        "# grouped_df=pd.read_csv(\"/content/drive/MyDrive/Data/grouped_df.csv\",dtype=str)\n",
        "grouped_df=grouped_df[1:25000]"
      ],
      "metadata": {
        "id": "CZAeYNq4-bys"
      },
      "execution_count": null,
      "outputs": []
    },
    {
      "cell_type": "code",
      "source": [
        "grouped_df.head(5)"
      ],
      "metadata": {
        "colab": {
          "base_uri": "https://localhost:8080/",
          "height": 687
        },
        "id": "x_sVU4CN-b9E",
        "outputId": "632bb8ea-ec0f-4e9e-a504-8d15875d2d49"
      },
      "execution_count": null,
      "outputs": [
        {
          "output_type": "execute_result",
          "data": {
            "text/plain": [
              "     language_code  is_ebook  average_rating similar_books  \\\n",
              "2070         en-GB     False            2.68            []   \n",
              "2071         en-GB     False            2.78            []   \n",
              "2072         en-GB     False            2.79            []   \n",
              "2073         en-GB     False            2.79            []   \n",
              "2074         en-GB     False            2.90            []   \n",
              "\n",
              "                                            description  \\\n",
              "2070  A picture book retelling of a traditional Euro...   \n",
              "2071  The call to self expression haunts a delicate,...   \n",
              "2072  Owls are supposed to be wise, but Twoo Twit is...   \n",
              "2073  Owls are supposed to be wise, but Twoo Twit is...   \n",
              "2074  Charlie is visiting the beach with his dad, wh...   \n",
              "\n",
              "                               publisher                          title  \\\n",
              "2070                 Kregel Publications   Simon and the Easter Miracle   \n",
              "2071                    Candlewick Press   The Girl Who Wanted to Dance   \n",
              "2072             Hodder Children's Books                      Twoo Twit   \n",
              "2073             Hodder Children's Books                      Twoo Twit   \n",
              "2074  Hodder General Publishing Division  The Biggest Hole In The World   \n",
              "\n",
              "       book_id      book_genre             author_ids  n_votes    rating  \\\n",
              "2070  10454659  00010000000100   ['211681', '892038']      0.0  2.714286   \n",
              "2071   6073626  00010001000100    ['6382', '2773385']      0.0  4.500000   \n",
              "2072   2287255  00000001001110              ['49142']      0.0  3.500000   \n",
              "2073   2287255  00000001001110              ['49142']      1.0  0.000000   \n",
              "2074    520674  00110000100100  ['289000', '2824279']      0.0  2.000000   \n",
              "\n",
              "                                            review_text  review_length  \\\n",
              "2070  Simon and the Easter Miracle is a traditional ...          13684   \n",
              "2071  This is a beautiful and sweet story about a gi...            311   \n",
              "2072  Cute \\n Note for self - Church and pastor ment...             98   \n",
              "2073  First read to Ivy 19/06/2016 \\n Moral: If you ...            129   \n",
              "2074  Who hasn't thought about the possibility of di...           1689   \n",
              "\n",
              "      description_len                                           combined  \n",
              "2070              643  Kregel Publications Simon and the Easter Mirac...  \n",
              "2071              727  Candlewick Press The Girl Who Wanted to Dance ...  \n",
              "2072              198  Hodder Children's Books Twoo Twit ['49142'] 2....  \n",
              "2073              198  Hodder Children's Books Twoo Twit ['49142'] 2....  \n",
              "2074              370  Hodder General Publishing Division The Biggest...  "
            ],
            "text/html": [
              "\n",
              "  <div id=\"df-75a5793b-d1d1-4c27-ad6a-2a30c25c0737\">\n",
              "    <div class=\"colab-df-container\">\n",
              "      <div>\n",
              "<style scoped>\n",
              "    .dataframe tbody tr th:only-of-type {\n",
              "        vertical-align: middle;\n",
              "    }\n",
              "\n",
              "    .dataframe tbody tr th {\n",
              "        vertical-align: top;\n",
              "    }\n",
              "\n",
              "    .dataframe thead th {\n",
              "        text-align: right;\n",
              "    }\n",
              "</style>\n",
              "<table border=\"1\" class=\"dataframe\">\n",
              "  <thead>\n",
              "    <tr style=\"text-align: right;\">\n",
              "      <th></th>\n",
              "      <th>language_code</th>\n",
              "      <th>is_ebook</th>\n",
              "      <th>average_rating</th>\n",
              "      <th>similar_books</th>\n",
              "      <th>description</th>\n",
              "      <th>publisher</th>\n",
              "      <th>title</th>\n",
              "      <th>book_id</th>\n",
              "      <th>book_genre</th>\n",
              "      <th>author_ids</th>\n",
              "      <th>n_votes</th>\n",
              "      <th>rating</th>\n",
              "      <th>review_text</th>\n",
              "      <th>review_length</th>\n",
              "      <th>description_len</th>\n",
              "      <th>combined</th>\n",
              "    </tr>\n",
              "  </thead>\n",
              "  <tbody>\n",
              "    <tr>\n",
              "      <th>2070</th>\n",
              "      <td>en-GB</td>\n",
              "      <td>False</td>\n",
              "      <td>2.68</td>\n",
              "      <td>[]</td>\n",
              "      <td>A picture book retelling of a traditional Euro...</td>\n",
              "      <td>Kregel Publications</td>\n",
              "      <td>Simon and the Easter Miracle</td>\n",
              "      <td>10454659</td>\n",
              "      <td>00010000000100</td>\n",
              "      <td>['211681', '892038']</td>\n",
              "      <td>0.0</td>\n",
              "      <td>2.714286</td>\n",
              "      <td>Simon and the Easter Miracle is a traditional ...</td>\n",
              "      <td>13684</td>\n",
              "      <td>643</td>\n",
              "      <td>Kregel Publications Simon and the Easter Mirac...</td>\n",
              "    </tr>\n",
              "    <tr>\n",
              "      <th>2071</th>\n",
              "      <td>en-GB</td>\n",
              "      <td>False</td>\n",
              "      <td>2.78</td>\n",
              "      <td>[]</td>\n",
              "      <td>The call to self expression haunts a delicate,...</td>\n",
              "      <td>Candlewick Press</td>\n",
              "      <td>The Girl Who Wanted to Dance</td>\n",
              "      <td>6073626</td>\n",
              "      <td>00010001000100</td>\n",
              "      <td>['6382', '2773385']</td>\n",
              "      <td>0.0</td>\n",
              "      <td>4.500000</td>\n",
              "      <td>This is a beautiful and sweet story about a gi...</td>\n",
              "      <td>311</td>\n",
              "      <td>727</td>\n",
              "      <td>Candlewick Press The Girl Who Wanted to Dance ...</td>\n",
              "    </tr>\n",
              "    <tr>\n",
              "      <th>2072</th>\n",
              "      <td>en-GB</td>\n",
              "      <td>False</td>\n",
              "      <td>2.79</td>\n",
              "      <td>[]</td>\n",
              "      <td>Owls are supposed to be wise, but Twoo Twit is...</td>\n",
              "      <td>Hodder Children's Books</td>\n",
              "      <td>Twoo Twit</td>\n",
              "      <td>2287255</td>\n",
              "      <td>00000001001110</td>\n",
              "      <td>['49142']</td>\n",
              "      <td>0.0</td>\n",
              "      <td>3.500000</td>\n",
              "      <td>Cute \\n Note for self - Church and pastor ment...</td>\n",
              "      <td>98</td>\n",
              "      <td>198</td>\n",
              "      <td>Hodder Children's Books Twoo Twit ['49142'] 2....</td>\n",
              "    </tr>\n",
              "    <tr>\n",
              "      <th>2073</th>\n",
              "      <td>en-GB</td>\n",
              "      <td>False</td>\n",
              "      <td>2.79</td>\n",
              "      <td>[]</td>\n",
              "      <td>Owls are supposed to be wise, but Twoo Twit is...</td>\n",
              "      <td>Hodder Children's Books</td>\n",
              "      <td>Twoo Twit</td>\n",
              "      <td>2287255</td>\n",
              "      <td>00000001001110</td>\n",
              "      <td>['49142']</td>\n",
              "      <td>1.0</td>\n",
              "      <td>0.000000</td>\n",
              "      <td>First read to Ivy 19/06/2016 \\n Moral: If you ...</td>\n",
              "      <td>129</td>\n",
              "      <td>198</td>\n",
              "      <td>Hodder Children's Books Twoo Twit ['49142'] 2....</td>\n",
              "    </tr>\n",
              "    <tr>\n",
              "      <th>2074</th>\n",
              "      <td>en-GB</td>\n",
              "      <td>False</td>\n",
              "      <td>2.90</td>\n",
              "      <td>[]</td>\n",
              "      <td>Charlie is visiting the beach with his dad, wh...</td>\n",
              "      <td>Hodder General Publishing Division</td>\n",
              "      <td>The Biggest Hole In The World</td>\n",
              "      <td>520674</td>\n",
              "      <td>00110000100100</td>\n",
              "      <td>['289000', '2824279']</td>\n",
              "      <td>0.0</td>\n",
              "      <td>2.000000</td>\n",
              "      <td>Who hasn't thought about the possibility of di...</td>\n",
              "      <td>1689</td>\n",
              "      <td>370</td>\n",
              "      <td>Hodder General Publishing Division The Biggest...</td>\n",
              "    </tr>\n",
              "  </tbody>\n",
              "</table>\n",
              "</div>\n",
              "      <button class=\"colab-df-convert\" onclick=\"convertToInteractive('df-75a5793b-d1d1-4c27-ad6a-2a30c25c0737')\"\n",
              "              title=\"Convert this dataframe to an interactive table.\"\n",
              "              style=\"display:none;\">\n",
              "        \n",
              "  <svg xmlns=\"http://www.w3.org/2000/svg\" height=\"24px\"viewBox=\"0 0 24 24\"\n",
              "       width=\"24px\">\n",
              "    <path d=\"M0 0h24v24H0V0z\" fill=\"none\"/>\n",
              "    <path d=\"M18.56 5.44l.94 2.06.94-2.06 2.06-.94-2.06-.94-.94-2.06-.94 2.06-2.06.94zm-11 1L8.5 8.5l.94-2.06 2.06-.94-2.06-.94L8.5 2.5l-.94 2.06-2.06.94zm10 10l.94 2.06.94-2.06 2.06-.94-2.06-.94-.94-2.06-.94 2.06-2.06.94z\"/><path d=\"M17.41 7.96l-1.37-1.37c-.4-.4-.92-.59-1.43-.59-.52 0-1.04.2-1.43.59L10.3 9.45l-7.72 7.72c-.78.78-.78 2.05 0 2.83L4 21.41c.39.39.9.59 1.41.59.51 0 1.02-.2 1.41-.59l7.78-7.78 2.81-2.81c.8-.78.8-2.07 0-2.86zM5.41 20L4 18.59l7.72-7.72 1.47 1.35L5.41 20z\"/>\n",
              "  </svg>\n",
              "      </button>\n",
              "      \n",
              "  <style>\n",
              "    .colab-df-container {\n",
              "      display:flex;\n",
              "      flex-wrap:wrap;\n",
              "      gap: 12px;\n",
              "    }\n",
              "\n",
              "    .colab-df-convert {\n",
              "      background-color: #E8F0FE;\n",
              "      border: none;\n",
              "      border-radius: 50%;\n",
              "      cursor: pointer;\n",
              "      display: none;\n",
              "      fill: #1967D2;\n",
              "      height: 32px;\n",
              "      padding: 0 0 0 0;\n",
              "      width: 32px;\n",
              "    }\n",
              "\n",
              "    .colab-df-convert:hover {\n",
              "      background-color: #E2EBFA;\n",
              "      box-shadow: 0px 1px 2px rgba(60, 64, 67, 0.3), 0px 1px 3px 1px rgba(60, 64, 67, 0.15);\n",
              "      fill: #174EA6;\n",
              "    }\n",
              "\n",
              "    [theme=dark] .colab-df-convert {\n",
              "      background-color: #3B4455;\n",
              "      fill: #D2E3FC;\n",
              "    }\n",
              "\n",
              "    [theme=dark] .colab-df-convert:hover {\n",
              "      background-color: #434B5C;\n",
              "      box-shadow: 0px 1px 3px 1px rgba(0, 0, 0, 0.15);\n",
              "      filter: drop-shadow(0px 1px 2px rgba(0, 0, 0, 0.3));\n",
              "      fill: #FFFFFF;\n",
              "    }\n",
              "  </style>\n",
              "\n",
              "      <script>\n",
              "        const buttonEl =\n",
              "          document.querySelector('#df-75a5793b-d1d1-4c27-ad6a-2a30c25c0737 button.colab-df-convert');\n",
              "        buttonEl.style.display =\n",
              "          google.colab.kernel.accessAllowed ? 'block' : 'none';\n",
              "\n",
              "        async function convertToInteractive(key) {\n",
              "          const element = document.querySelector('#df-75a5793b-d1d1-4c27-ad6a-2a30c25c0737');\n",
              "          const dataTable =\n",
              "            await google.colab.kernel.invokeFunction('convertToInteractive',\n",
              "                                                     [key], {});\n",
              "          if (!dataTable) return;\n",
              "\n",
              "          const docLinkHtml = 'Like what you see? Visit the ' +\n",
              "            '<a target=\"_blank\" href=https://colab.research.google.com/notebooks/data_table.ipynb>data table notebook</a>'\n",
              "            + ' to learn more about interactive tables.';\n",
              "          element.innerHTML = '';\n",
              "          dataTable['output_type'] = 'display_data';\n",
              "          await google.colab.output.renderOutput(dataTable, element);\n",
              "          const docLink = document.createElement('div');\n",
              "          docLink.innerHTML = docLinkHtml;\n",
              "          element.appendChild(docLink);\n",
              "        }\n",
              "      </script>\n",
              "    </div>\n",
              "  </div>\n",
              "  "
            ]
          },
          "metadata": {},
          "execution_count": 141
        }
      ]
    },
    {
      "cell_type": "code",
      "source": [
        "from sklearn.feature_extraction.text import TfidfVectorizer\n",
        "  \n",
        "# Vectorizing pre-processed movie plots using TF-IDF\n",
        "tfidfvec = TfidfVectorizer()\n",
        "tfidf_movieid = tfidfvec.fit_transform((grouped_df[\"combined\"]))\n",
        "  \n",
        "\n",
        "# Finding cosine similarity between vectors\n"
      ],
      "metadata": {
        "id": "ivsJ2pWTtw-h"
      },
      "execution_count": null,
      "outputs": []
    },
    {
      "cell_type": "code",
      "source": [
        "tfidf_movieid"
      ],
      "metadata": {
        "colab": {
          "base_uri": "https://localhost:8080/"
        },
        "id": "8-RvsG_gJuS3",
        "outputId": "cb762769-49bd-4b93-bc6d-f7b4e0f46870"
      },
      "execution_count": null,
      "outputs": [
        {
          "output_type": "execute_result",
          "data": {
            "text/plain": [
              "<9999x82475 sparse matrix of type '<class 'numpy.float64'>'\n",
              "\twith 2262252 stored elements in Compressed Sparse Row format>"
            ]
          },
          "metadata": {},
          "execution_count": 143
        }
      ]
    },
    {
      "cell_type": "code",
      "source": [
        "from sklearn.cluster import KMeans\n",
        "kmeans = KMeans(n_clusters=100).fit(tfidf_movieid)"
      ],
      "metadata": {
        "id": "pSB-25XQIPlg"
      },
      "execution_count": null,
      "outputs": []
    },
    {
      "cell_type": "code",
      "source": [
        "grouped_df[\"clusters\"]=kmeans.labels_"
      ],
      "metadata": {
        "id": "nUkHkT2mI_Ut"
      },
      "execution_count": null,
      "outputs": []
    },
    {
      "cell_type": "code",
      "source": [
        "def index(title):\n",
        "    return grouped_df[grouped_df.title == title][\"S_no\"].values[0]"
      ],
      "metadata": {
        "id": "KOcC3m3H_TtV"
      },
      "execution_count": null,
      "outputs": []
    },
    {
      "cell_type": "code",
      "source": [
        "grouped_df.reset_index(inplace=True)\n",
        "indices = pd.Series(grouped_df.index)\n",
        "\n",
        "def recommendations(title):\n",
        "    recommended_movies = []\n",
        "    genre=[]\n",
        "    index = grouped_df[grouped_df.title==title].index[0]\n",
        "    similarity_scores = pd.Series(cosine_sim[index]).sort_values(ascending = False)\n",
        "    top_10_movies = list(similarity_scores.iloc[1:11].index)\n",
        "    for i in top_10_movies:\n",
        "        try:\n",
        "          recommended_movies.append(list(grouped_df.title)[i])\n",
        "          genre.append(list(grouped_df.book_genre)[i])\n",
        "        except:\n",
        "          print(\"not found\")\n",
        "    return recommended_movies,genre"
      ],
      "metadata": {
        "id": "-wm3_5Zh_XMh"
      },
      "execution_count": null,
      "outputs": []
    },
    {
      "cell_type": "code",
      "source": [
        "recommendations(\"Forever X\")\n"
      ],
      "metadata": {
        "id": "uOFLpefs_5Yi"
      },
      "execution_count": null,
      "outputs": []
    },
    {
      "cell_type": "code",
      "source": [
        "#Calculate relevance of document based on matching number of book genres\n",
        "def relevance(predicted,expected,total):\n",
        "  child_genres=[\"classic\",'favorite','fiction','children','fantasy','young-adult','childhood','kids','adventure','animal','school','picture-books','library','other']\n",
        "  baseline=sum([1 for i in expected if i==\"1\"])\n",
        "  rel_score=[]\n",
        "  for p in predicted[:total]:\n",
        "    score=0\n",
        "    for idx,p in enumerate(p):\n",
        "      if expected[idx]==p and p==\"1\":score+=1\n",
        "    rel_score.append(score/(baseline+0.01)*1)\n",
        "  return rel_score\n",
        "\n",
        "#calculate precision with a threshold of 0.4\n",
        "def precision(relevance_score):\n",
        "  return sum([1 for i in relevance_score if i>0.5])/len(relevance_score)\n"
      ],
      "metadata": {
        "id": "ICgwELft_5bW"
      },
      "execution_count": null,
      "outputs": []
    },
    {
      "cell_type": "code",
      "source": [
        "def calculate_score(total=10):\n",
        "  score=[]\n",
        "  for row,d in grouped_df.iterrows():\n",
        "    name=d[\"title\"]\n",
        "    desc=d[\"description\"]\n",
        "    #concatenate book name and description and get document embedding for the same\n",
        "    result=recommendations(name)\n",
        "    book_g=d[\"book_genre\"]\n",
        "    similar_books = getElementsInTheSameCluster(d[\"clusters\"])\n",
        "    similar_books=list(set(similar_books['genre']))\n",
        "    # similar_books=list(set(similar_books['genre']))\n",
        "    #calculate precision@total\n",
        "    relevance_score=relevance(similar_books,book_g,total)\n",
        "    prec=precision(relevance_score)\n",
        "    score.append(prec)\n",
        "  return sum(score)/len(score)\n",
        "  "
      ],
      "metadata": {
        "id": "EbohdUr3_5du"
      },
      "execution_count": null,
      "outputs": []
    },
    {
      "cell_type": "code",
      "source": [
        "def getElementsInTheSameCluster(centroid):\n",
        "    cluster =grouped_df\n",
        "    cluster['embeddings_id'] = [i for i in range(0,9999)]\n",
        "    multiIndex_cluster = cluster.sort_values(by=['clusters'])\n",
        "    multiIndex_cluster = multiIndex_cluster.set_index(['clusters'])\n",
        "    books = multiIndex_cluster.loc[centroid]\n",
        "\n",
        "    ids = np.asarray(books.index)\n",
        "    titles = [t for t in books['title']]\n",
        "    genre=[t for t in books['book_genre']]\n",
        "    description = [d for d in books['description']]\n",
        "    similar_books = {'id':ids, 'title':titles, 'description':description,'genre':genre}\n",
        "    return similar_books"
      ],
      "metadata": {
        "id": "npOT2hHyI_bQ"
      },
      "execution_count": null,
      "outputs": []
    },
    {
      "cell_type": "code",
      "source": [
        "result=calculate_score(5)\n",
        "print(\"Precision @5: \",result)"
      ],
      "metadata": {
        "colab": {
          "base_uri": "https://localhost:8080/"
        },
        "id": "nnCc3GFF_5gd",
        "outputId": "95f49c74-0284-4382-e7c4-6e72a9084393"
      },
      "execution_count": null,
      "outputs": [
        {
          "output_type": "stream",
          "name": "stdout",
          "text": [
            "Precision @5:  0.7113794712804994\n"
          ]
        }
      ]
    },
    {
      "cell_type": "code",
      "source": [
        "result=calculate_score(10)\n",
        "print(\"Precision @10: \",result)"
      ],
      "metadata": {
        "colab": {
          "base_uri": "https://localhost:8080/"
        },
        "id": "csuaEpfHDAkd",
        "outputId": "1d11b9d0-2daa-4bbc-edf4-cd438310f5b8"
      },
      "execution_count": null,
      "outputs": [
        {
          "output_type": "stream",
          "name": "stdout",
          "text": [
            "Precision @10:  0.7209356649950743\n"
          ]
        }
      ]
    },
    {
      "cell_type": "code",
      "source": [
        "result=calculate_score(25)\n",
        "print(\"Precision @25: \",result)"
      ],
      "metadata": {
        "colab": {
          "base_uri": "https://localhost:8080/"
        },
        "id": "lPhaY_FxDIy_",
        "outputId": "f098f556-e3e0-412b-996a-701decab2396"
      },
      "execution_count": null,
      "outputs": [
        {
          "output_type": "stream",
          "name": "stdout",
          "text": [
            "Precision @25:  0.6882396452808519\n"
          ]
        }
      ]
    },
    {
      "cell_type": "code",
      "source": [],
      "metadata": {
        "id": "gLWiQrrzGTvm"
      },
      "execution_count": null,
      "outputs": []
    }
  ],
  "metadata": {
    "accelerator": "GPU",
    "colab": {
      "machine_shape": "hm",
      "provenance": []
    },
    "gpuClass": "standard",
    "kernelspec": {
      "display_name": "Python 3",
      "name": "python3"
    }
  },
  "nbformat": 4,
  "nbformat_minor": 0
}